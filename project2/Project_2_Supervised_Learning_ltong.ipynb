{
 "cells": [
  {
   "cell_type": "markdown",
   "metadata": {},
   "source": [
    "# DATA 71200: Project 2\n",
    "### Spring2020 - Lu Tong\n"
   ]
  },
  {
   "cell_type": "code",
   "execution_count": 1,
   "metadata": {},
   "outputs": [],
   "source": [
    "import pandas as pd\n",
    "import numpy as np\n",
    "import matplotlib.pyplot as plt\n",
    "plt.style.use('ggplot')\n",
    "import numpy as np\n",
    "import re\n",
    "import spacy\n",
    "nlp = spacy.load(\"en_core_web_sm\")"
   ]
  },
  {
   "cell_type": "markdown",
   "metadata": {},
   "source": [
    "## Step 1: Load your data, including testing/training split from Project 1.\n",
    "\n",
    "Data Source: the cleaned version from Project 1"
   ]
  },
  {
   "cell_type": "code",
   "execution_count": 2,
   "metadata": {},
   "outputs": [
    {
     "name": "stdout",
     "output_type": "stream",
     "text": [
      "Training Set Shape = (7613, 15)\n",
      "Test Set Shape = (3263, 14)\n"
     ]
    }
   ],
   "source": [
    "df_train = pd.read_csv('train_clean.csv', dtype={'id': np.int16, 'target': np.int8})\n",
    "df_test = pd.read_csv('test_clean.csv', dtype={'id': np.int16})\n",
    "\n",
    "print('Training Set Shape = {}'.format(df_train.shape))\n",
    "print('Test Set Shape = {}'.format(df_test.shape))"
   ]
  },
  {
   "cell_type": "code",
   "execution_count": 3,
   "metadata": {},
   "outputs": [
    {
     "data": {
      "text/html": [
       "<div>\n",
       "<style scoped>\n",
       "    .dataframe tbody tr th:only-of-type {\n",
       "        vertical-align: middle;\n",
       "    }\n",
       "\n",
       "    .dataframe tbody tr th {\n",
       "        vertical-align: top;\n",
       "    }\n",
       "\n",
       "    .dataframe thead th {\n",
       "        text-align: right;\n",
       "    }\n",
       "</style>\n",
       "<table border=\"1\" class=\"dataframe\">\n",
       "  <thead>\n",
       "    <tr style=\"text-align: right;\">\n",
       "      <th></th>\n",
       "      <th>id</th>\n",
       "      <th>keyword</th>\n",
       "      <th>location</th>\n",
       "      <th>text</th>\n",
       "      <th>target</th>\n",
       "      <th>word_count</th>\n",
       "      <th>unique_word_count</th>\n",
       "      <th>stop_word_count</th>\n",
       "      <th>url_count</th>\n",
       "      <th>mean_word_length</th>\n",
       "      <th>char_count</th>\n",
       "      <th>punctuation_count</th>\n",
       "      <th>hashtag_count</th>\n",
       "      <th>mention_count</th>\n",
       "      <th>rawtext</th>\n",
       "    </tr>\n",
       "  </thead>\n",
       "  <tbody>\n",
       "    <tr>\n",
       "      <th>0</th>\n",
       "      <td>1</td>\n",
       "      <td>NaN</td>\n",
       "      <td>NaN</td>\n",
       "      <td>Our Deeds are the Reason of this earthquake Ma...</td>\n",
       "      <td>1</td>\n",
       "      <td>13</td>\n",
       "      <td>13</td>\n",
       "      <td>6</td>\n",
       "      <td>0</td>\n",
       "      <td>4.384615</td>\n",
       "      <td>69</td>\n",
       "      <td>1</td>\n",
       "      <td>1</td>\n",
       "      <td>0</td>\n",
       "      <td>Our Deeds are the Reason of this #earthquake M...</td>\n",
       "    </tr>\n",
       "    <tr>\n",
       "      <th>1</th>\n",
       "      <td>4</td>\n",
       "      <td>NaN</td>\n",
       "      <td>NaN</td>\n",
       "      <td>Forest fire near La Ronge Sask Canada</td>\n",
       "      <td>1</td>\n",
       "      <td>7</td>\n",
       "      <td>7</td>\n",
       "      <td>0</td>\n",
       "      <td>0</td>\n",
       "      <td>4.571429</td>\n",
       "      <td>38</td>\n",
       "      <td>1</td>\n",
       "      <td>0</td>\n",
       "      <td>0</td>\n",
       "      <td>Forest fire near La Ronge Sask. Canada</td>\n",
       "    </tr>\n",
       "    <tr>\n",
       "      <th>2</th>\n",
       "      <td>5</td>\n",
       "      <td>NaN</td>\n",
       "      <td>NaN</td>\n",
       "      <td>All residents asked to shelter in place are be...</td>\n",
       "      <td>1</td>\n",
       "      <td>22</td>\n",
       "      <td>20</td>\n",
       "      <td>11</td>\n",
       "      <td>0</td>\n",
       "      <td>5.090909</td>\n",
       "      <td>133</td>\n",
       "      <td>3</td>\n",
       "      <td>0</td>\n",
       "      <td>0</td>\n",
       "      <td>All residents asked to 'shelter in place' are ...</td>\n",
       "    </tr>\n",
       "  </tbody>\n",
       "</table>\n",
       "</div>"
      ],
      "text/plain": [
       "   id keyword location                                               text  \\\n",
       "0   1     NaN      NaN  Our Deeds are the Reason of this earthquake Ma...   \n",
       "1   4     NaN      NaN              Forest fire near La Ronge Sask Canada   \n",
       "2   5     NaN      NaN  All residents asked to shelter in place are be...   \n",
       "\n",
       "   target  word_count  unique_word_count  stop_word_count  url_count  \\\n",
       "0       1          13                 13                6          0   \n",
       "1       1           7                  7                0          0   \n",
       "2       1          22                 20               11          0   \n",
       "\n",
       "   mean_word_length  char_count  punctuation_count  hashtag_count  \\\n",
       "0          4.384615          69                  1              1   \n",
       "1          4.571429          38                  1              0   \n",
       "2          5.090909         133                  3              0   \n",
       "\n",
       "   mention_count                                            rawtext  \n",
       "0              0  Our Deeds are the Reason of this #earthquake M...  \n",
       "1              0             Forest fire near La Ronge Sask. Canada  \n",
       "2              0  All residents asked to 'shelter in place' are ...  "
      ]
     },
     "execution_count": 3,
     "metadata": {},
     "output_type": "execute_result"
    }
   ],
   "source": [
    "df_train.head(3)"
   ]
  },
  {
   "cell_type": "code",
   "execution_count": 4,
   "metadata": {},
   "outputs": [],
   "source": [
    "df_train_target = df_train['target']\n",
    "df_train = df_train.drop(columns=['rawtext','target'])\n",
    "df_test = df_test.drop(columns=['rawtext'])"
   ]
  },
  {
   "cell_type": "markdown",
   "metadata": {},
   "source": [
    "## Step 2:  Prepare your data\n",
    "I've created some features in project 1 but I feel word vectorization is most appropriate for higher predicting power."
   ]
  },
  {
   "cell_type": "code",
   "execution_count": 5,
   "metadata": {},
   "outputs": [
    {
     "data": {
      "text/plain": [
       "(10876, 13)"
      ]
     },
     "execution_count": 5,
     "metadata": {},
     "output_type": "execute_result"
    }
   ],
   "source": [
    "df=pd.concat([df_train,df_test])\n",
    "df.shape"
   ]
  },
  {
   "cell_type": "markdown",
   "metadata": {},
   "source": [
    "I use GloVe for Vectorization. I refered to the notebook on Kaggle to conduct my procedure."
   ]
  },
  {
   "cell_type": "markdown",
   "metadata": {},
   "source": [
    "Here is the link to GloVe introduction. https://nlp.stanford.edu/projects/glove/\n",
    "\n",
    "I use pre-trained word vectors to process text. To be specific, I use Wikipedia 2014 + Gigaword 5 datasets. It is available in 3 varieties :50D ,100D and 200 Dimentional.I try 100 D here."
   ]
  },
  {
   "cell_type": "code",
   "execution_count": 6,
   "metadata": {},
   "outputs": [
    {
     "name": "stderr",
     "output_type": "stream",
     "text": [
      "[nltk_data] Downloading package stopwords to\n",
      "[nltk_data]     C:\\Users\\Bravo\\AppData\\Roaming\\nltk_data...\n",
      "[nltk_data]   Package stopwords is already up-to-date!\n",
      "Using TensorFlow backend.\n"
     ]
    }
   ],
   "source": [
    "import string\n",
    "import nltk\n",
    "nltk.download('stopwords')\n",
    "from nltk.corpus import stopwords \n",
    "stop=set(stopwords.words('english'))\n",
    "from nltk.tokenize import word_tokenize\n",
    "from tqdm import tqdm\n",
    "from keras.preprocessing.text import Tokenizer\n",
    "from keras.preprocessing.sequence import pad_sequences"
   ]
  },
  {
   "cell_type": "code",
   "execution_count": 7,
   "metadata": {},
   "outputs": [],
   "source": [
    "def create_corpus(df):\n",
    "    corpus=[]\n",
    "    for tweet in tqdm(df['text']):\n",
    "        words=[word.lower() for word in word_tokenize(tweet) if((word.isalpha()==1) & (word not in stop))]\n",
    "        corpus.append(words)\n",
    "    return corpus"
   ]
  },
  {
   "cell_type": "code",
   "execution_count": 8,
   "metadata": {},
   "outputs": [
    {
     "name": "stderr",
     "output_type": "stream",
     "text": [
      "100%|██████████| 10876/10876 [00:01<00:00, 7936.52it/s]\n"
     ]
    }
   ],
   "source": [
    "corpus=create_corpus(df)"
   ]
  },
  {
   "cell_type": "code",
   "execution_count": 9,
   "metadata": {},
   "outputs": [],
   "source": [
    "embedding_dict={}\n",
    "with open('glove.6B.100d.txt','rb') as f:\n",
    "    for line in f:\n",
    "        values=line.split()\n",
    "        word=values[0]\n",
    "        vectors=np.asarray(values[1:],'float32')\n",
    "        embedding_dict[word]=vectors\n",
    "f.close()"
   ]
  },
  {
   "cell_type": "code",
   "execution_count": 10,
   "metadata": {},
   "outputs": [],
   "source": [
    "MAX_LEN=50\n",
    "tokenizer_obj=Tokenizer()\n",
    "tokenizer_obj.fit_on_texts(corpus)\n",
    "sequences=tokenizer_obj.texts_to_sequences(corpus)\n",
    "\n",
    "tweet_pad=pad_sequences(sequences,maxlen=MAX_LEN,truncating='post',padding='post')"
   ]
  },
  {
   "cell_type": "markdown",
   "metadata": {},
   "source": [
    "embedding for sequential model.\n",
    "word_index=tokenizer_obj.word_index\n",
    "print('Number of unique words:',len(word_index))\n",
    "num_words=len(word_index)+1\n",
    "embedding_matrix=np.zeros((num_words,100))\n",
    "\n",
    "for word,i in tqdm(word_index.items()):\n",
    "    if i > num_words:\n",
    "        continue\n",
    "    \n",
    "    emb_vec=embedding_dict.get(word)\n",
    "    if emb_vec is not None:\n",
    "        embedding_matrix[i]=emb_vec"
   ]
  },
  {
   "cell_type": "code",
   "execution_count": 11,
   "metadata": {},
   "outputs": [],
   "source": [
    "train = tweet_pad[:df_train.shape[0]]\n",
    "test = tweet_pad[df_train.shape[0]:]"
   ]
  },
  {
   "cell_type": "markdown",
   "metadata": {},
   "source": [
    "## Step 3: Select your target attribute. \n",
    "My target attribute is \"target\", which is a dummy variable indicates whether the tweet content is about real disaster."
   ]
  },
  {
   "cell_type": "markdown",
   "metadata": {},
   "source": [
    "My target variable is an binary variable. "
   ]
  },
  {
   "cell_type": "markdown",
   "metadata": {},
   "source": [
    "## Step 4: Selected two of the following supervised learning algorithms\n",
    "I choose Method 1: k-Nearest Neigbors and Method 2: Random Forest"
   ]
  },
  {
   "cell_type": "markdown",
   "metadata": {},
   "source": [
    "## Step 5: For each of your selected models\n",
    "•\tRun with the default parameters using cross-validation\n",
    "\n",
    "o\tCalculate precision, recall, and F1 for classification\n",
    "\n",
    "o\tCalculate r2, RMSE, and MAE for regression\n",
    "\n",
    "•\t(Where possible) adjust 2-3 parameters for each model\n",
    "\n",
    "o\tReport evaluation metrics for the best and worst performing parameter settings"
   ]
  },
  {
   "cell_type": "code",
   "execution_count": 12,
   "metadata": {},
   "outputs": [],
   "source": [
    "from sklearn import metrics\n",
    "from sklearn.model_selection import cross_val_score, cross_val_predict\n",
    "from sklearn.metrics import classification_report\n",
    "from sklearn.model_selection import train_test_split\n",
    "from sklearn.model_selection import GridSearchCV"
   ]
  },
  {
   "cell_type": "code",
   "execution_count": 13,
   "metadata": {},
   "outputs": [
    {
     "name": "stdout",
     "output_type": "stream",
     "text": [
      "Shape of Training Datase (6471, 50)\n",
      "Shape of Validation Dataset (1142, 50)\n"
     ]
    }
   ],
   "source": [
    "X_train,X_test,y_train,y_test=train_test_split(train,df_train_target,test_size=0.15)\n",
    "print(\"Shape of Training Datase\", X_train.shape)\n",
    "print(\"Shape of Validation Dataset\", X_test.shape)"
   ]
  },
  {
   "cell_type": "markdown",
   "metadata": {},
   "source": [
    "### Model 1: KNN "
   ]
  },
  {
   "cell_type": "code",
   "execution_count": 14,
   "metadata": {},
   "outputs": [],
   "source": [
    "from sklearn.neighbors import KNeighborsClassifier"
   ]
  },
  {
   "cell_type": "code",
   "execution_count": 15,
   "metadata": {},
   "outputs": [
    {
     "name": "stdout",
     "output_type": "stream",
     "text": [
      "cv_scores:\n",
      "[0.55555556 0.58333333 0.57496136 0.5950541  0.58887172 0.61823802\n",
      " 0.55023184 0.59196291 0.59196291 0.58204334]\n",
      "cv_scores mean:\n",
      "0.5832215076437038\n",
      "              precision    recall  f1-score   support\n",
      "\n",
      "           1       0.64      0.66      0.65       670\n",
      "           0       0.50      0.47      0.48       472\n",
      "\n",
      "   micro avg       0.58      0.58      0.58      1142\n",
      "   macro avg       0.57      0.57      0.57      1142\n",
      "weighted avg       0.58      0.58      0.58      1142\n",
      "\n"
     ]
    }
   ],
   "source": [
    "#10-fold cross validation with default parameters, default = 5\n",
    "knn = KNeighborsClassifier()\n",
    "knn.fit(X_train, y_train)\n",
    "knn_scores = cross_val_score(knn, X_train, y_train, cv=10)\n",
    "\n",
    "print(\"cv_scores:\\n{}\".format(knn_scores))\n",
    "print(\"cv_scores mean:\\n{}\".format(np.mean(knn_scores)))\n",
    "print(classification_report(y_test, knn.predict(X_test),\n",
    "                            target_names=[\"1\", \"0\"]))"
   ]
  },
  {
   "cell_type": "code",
   "execution_count": 16,
   "metadata": {},
   "outputs": [
    {
     "data": {
      "text/plain": [
       "<matplotlib.legend.Legend at 0x2189e532208>"
      ]
     },
     "execution_count": 16,
     "metadata": {},
     "output_type": "execute_result"
    },
    {
     "data": {
      "image/png": "[encoded data removed]",
      "text/plain": [
       "<Figure size 432x288 with 1 Axes>"
      ]
     },
     "metadata": {
      "needs_background": "light"
     },
     "output_type": "display_data"
    }
   ],
   "source": [
    "#Tuning Parameters\n",
    "#Setting: euclidean_distance (l2)\n",
    "# try n_neighbors from 5 to 20\n",
    "training_accuracy = []\n",
    "test_accuracy = []\n",
    "\n",
    "neighbors_settings = range(1, 11)\n",
    "\n",
    "for n_neighbors in neighbors_settings:\n",
    "    # build the model\n",
    "    knn = KNeighborsClassifier(n_neighbors=n_neighbors)\n",
    "    knn.fit(X_train, y_train)\n",
    "    # record training set accuracy\n",
    "    training_accuracy.append(knn.score(X_train, y_train))\n",
    "    # record generalization accuracy\n",
    "    test_accuracy.append(knn.score(X_test, y_test))\n",
    "    \n",
    "plt.plot(neighbors_settings, training_accuracy, label=\"training accuracy\")\n",
    "plt.plot(neighbors_settings, test_accuracy, label=\"test accuracy\")\n",
    "plt.ylabel(\"Accuracy\")\n",
    "plt.xlabel(\"n_neighbors\")\n",
    "plt.legend()"
   ]
  },
  {
   "cell_type": "code",
   "execution_count": 17,
   "metadata": {},
   "outputs": [],
   "source": [
    "knn = KNeighborsClassifier()\n",
    "\n",
    "#dictionary of all values of k\n",
    "param_grid = {\"n_neighbors\": [5,10,15,20],\n",
    "             \"weights\" : ['uniform','distance'],\n",
    "             \"metric\" : ['euclidean','manhattan']\n",
    "             }\n",
    "\n",
    "#grid search on all values of k in dictionary\n",
    "knn_gscv = GridSearchCV(knn, param_grid, cv=5)"
   ]
  },
  {
   "cell_type": "code",
   "execution_count": 18,
   "metadata": {},
   "outputs": [
    {
     "data": {
      "text/plain": [
       "{'metric': 'manhattan', 'n_neighbors': 15, 'weights': 'distance'}"
      ]
     },
     "execution_count": 18,
     "metadata": {},
     "output_type": "execute_result"
    }
   ],
   "source": [
    "# Fit the grid search to the data\n",
    "knn_gscv.fit(X_train, y_train)\n",
    "knn_gscv.best_params_"
   ]
  },
  {
   "cell_type": "code",
   "execution_count": 19,
   "metadata": {},
   "outputs": [
    {
     "name": "stdout",
     "output_type": "stream",
     "text": [
      "cv_scores:\n",
      "[0.55555556 0.58333333 0.57496136 0.5950541  0.58887172 0.61823802\n",
      " 0.55023184 0.59196291 0.59196291 0.58204334]\n",
      "cv_scores mean:\n",
      "0.5832215076437038\n",
      "Accuracy on test set: 0.632\n",
      "              precision    recall  f1-score   support\n",
      "\n",
      "           1       0.66      0.77      0.71       670\n",
      "           0       0.57      0.44      0.50       472\n",
      "\n",
      "   micro avg       0.63      0.63      0.63      1142\n",
      "   macro avg       0.62      0.60      0.60      1142\n",
      "weighted avg       0.62      0.63      0.62      1142\n",
      "\n"
     ]
    }
   ],
   "source": [
    "#10-fold cross validation with best parameters\n",
    "knnbest = KNeighborsClassifier(n_neighbors = 15,weights = \"distance\", metric = \"manhattan\")\n",
    "knnbest.fit(X_train, y_train)\n",
    "knn_scores = cross_val_score(knn, X_train, y_train, cv=10)\n",
    "\n",
    "print(\"cv_scores:\\n{}\".format(knn_scores))\n",
    "print(\"cv_scores mean:\\n{}\".format(np.mean(knn_scores)))\n",
    "print(\"Accuracy on test set: {:.3f}\".format(knnbest.score(X_test, y_test)))\n",
    "print(classification_report(y_test, knnbest.predict(X_test),\n",
    "                            target_names=[\"1\", \"0\"]))"
   ]
  },
  {
   "cell_type": "code",
   "execution_count": 23,
   "metadata": {},
   "outputs": [
    {
     "data": {
      "text/plain": [
       "numpy.ndarray"
      ]
     },
     "execution_count": 23,
     "metadata": {},
     "output_type": "execute_result"
    }
   ],
   "source": [
    "#get prediction for Kaggle submision\n",
    "knn_result = knnbest.predict(test)\n",
    "type(knn_result)"
   ]
  },
  {
   "cell_type": "code",
   "execution_count": 26,
   "metadata": {},
   "outputs": [],
   "source": [
    "df = pd.DataFrame(data=knn_result , columns=[\"target\"])\n",
    "df.to_csv('knn.csv',index = False)"
   ]
  },
  {
   "cell_type": "markdown",
   "metadata": {},
   "source": [
    "After adding the id to the csv, I submitted the result to kaggle and got the feedback.\n",
    "#### Score for KNN model is : 0.61247"
   ]
  },
  {
   "cell_type": "markdown",
   "metadata": {},
   "source": [
    "### Model 2: Random Forest"
   ]
  },
  {
   "cell_type": "code",
   "execution_count": 27,
   "metadata": {},
   "outputs": [],
   "source": [
    "from sklearn.ensemble import RandomForestClassifier\n",
    "from sklearn.datasets import make_moons"
   ]
  },
  {
   "cell_type": "code",
   "execution_count": 28,
   "metadata": {},
   "outputs": [
    {
     "name": "stderr",
     "output_type": "stream",
     "text": [
      "C:\\ProgramData\\Anaconda3\\lib\\site-packages\\sklearn\\ensemble\\forest.py:246: FutureWarning: The default value of n_estimators will change from 10 in version 0.20 to 100 in 0.22.\n",
      "  \"10 in version 0.20 to 100 in 0.22.\", FutureWarning)\n"
     ]
    },
    {
     "name": "stdout",
     "output_type": "stream",
     "text": [
      "cv_scores:\n",
      "[0.55555556 0.58333333 0.57496136 0.5950541  0.58887172 0.61823802\n",
      " 0.55023184 0.59196291 0.59196291 0.58204334]\n",
      "cv_scores mean:\n",
      "0.5832215076437038\n",
      "Accuracy on test set: 0.632\n",
      "              precision    recall  f1-score   support\n",
      "\n",
      "           1       0.66      0.78      0.71       670\n",
      "           0       0.57      0.43      0.49       472\n",
      "\n",
      "   micro avg       0.63      0.63      0.63      1142\n",
      "   macro avg       0.62      0.60      0.60      1142\n",
      "weighted avg       0.62      0.63      0.62      1142\n",
      "\n"
     ]
    }
   ],
   "source": [
    "forest = RandomForestClassifier()\n",
    "forest.fit(X_train, y_train)\n",
    "forest_scores = cross_val_score(knn, X_train, y_train, cv=10)\n",
    "\n",
    "print(\"cv_scores:\\n{}\".format(forest_scores))\n",
    "print(\"cv_scores mean:\\n{}\".format(np.mean(forest_scores)))\n",
    "print(\"Accuracy on test set: {:.3f}\".format(forest.score(X_test, y_test)))\n",
    "print(classification_report(y_test, forest.predict(X_test),\n",
    "                            target_names=[\"1\", \"0\"]))"
   ]
  },
  {
   "cell_type": "code",
   "execution_count": 29,
   "metadata": {},
   "outputs": [],
   "source": [
    "#Tuning Parameters\n",
    "from sklearn.model_selection import GridSearchCV\n",
    "# Create the parameter grid based on the results of random search \n",
    "param_grid = {\n",
    "    'n_estimators' : [100, 300, 500],\n",
    "    'max_depth' : [5, 10, 25],\n",
    "    'min_samples_leaf': [5, 20, 50],\n",
    "    'min_samples_split': [2, 5, 10],\n",
    "}\n",
    "# Instantiate the grid search model\n",
    "grid_search = GridSearchCV(estimator = forest, param_grid = param_grid, \n",
    "                          cv = 5, n_jobs = -1, verbose = 2)"
   ]
  },
  {
   "cell_type": "code",
   "execution_count": 30,
   "metadata": {},
   "outputs": [
    {
     "name": "stdout",
     "output_type": "stream",
     "text": [
      "Fitting 5 folds for each of 81 candidates, totalling 405 fits\n"
     ]
    },
    {
     "name": "stderr",
     "output_type": "stream",
     "text": [
      "[Parallel(n_jobs=-1)]: Using backend LokyBackend with 8 concurrent workers.\n",
      "[Parallel(n_jobs=-1)]: Done  25 tasks      | elapsed:   12.1s\n",
      "[Parallel(n_jobs=-1)]: Done 146 tasks      | elapsed:   54.3s\n",
      "[Parallel(n_jobs=-1)]: Done 349 tasks      | elapsed:  2.5min\n",
      "[Parallel(n_jobs=-1)]: Done 405 out of 405 | elapsed:  2.9min finished\n"
     ]
    },
    {
     "data": {
      "text/plain": [
       "{'max_depth': 25,\n",
       " 'min_samples_leaf': 5,\n",
       " 'min_samples_split': 5,\n",
       " 'n_estimators': 500}"
      ]
     },
     "execution_count": 30,
     "metadata": {},
     "output_type": "execute_result"
    }
   ],
   "source": [
    "# Fit the grid search to the data\n",
    "grid_search.fit(X_train, y_train)\n",
    "grid_search.best_params_"
   ]
  },
  {
   "cell_type": "code",
   "execution_count": 31,
   "metadata": {},
   "outputs": [
    {
     "name": "stdout",
     "output_type": "stream",
     "text": [
      "cv_scores:\n",
      "[0.67901235 0.66512346 0.65996909 0.67078825 0.64142195 0.65224111\n",
      " 0.67387944 0.65224111 0.65069552 0.64705882]\n",
      "cv_scores mean:\n",
      "0.6592431102041825\n",
      "Accuracy on test set: 0.683\n",
      "              precision    recall  f1-score   support\n",
      "\n",
      "           1       0.68      0.88      0.76       670\n",
      "           0       0.70      0.41      0.51       472\n",
      "\n",
      "   micro avg       0.68      0.68      0.68      1142\n",
      "   macro avg       0.69      0.64      0.64      1142\n",
      "weighted avg       0.69      0.68      0.66      1142\n",
      "\n"
     ]
    }
   ],
   "source": [
    "forestbest = RandomForestClassifier(max_depth = 25,min_samples_leaf = 5,min_samples_split = 5, n_estimators = 500)\n",
    "forestbest.fit(X_train, y_train)\n",
    "forest_scores = cross_val_score(forestbest, X_train, y_train, cv=10)\n",
    "\n",
    "print(\"cv_scores:\\n{}\".format(forest_scores))\n",
    "print(\"cv_scores mean:\\n{}\".format(np.mean(forest_scores)))\n",
    "print(\"Accuracy on test set: {:.3f}\".format(forestbest.score(X_test, y_test)))\n",
    "print(classification_report(y_test, forestbest.predict(X_test),\n",
    "                            target_names=[\"1\", \"0\"]))"
   ]
  },
  {
   "cell_type": "code",
   "execution_count": 32,
   "metadata": {},
   "outputs": [],
   "source": [
    "#get prediction for Kaggle submision\n",
    "forest_result = forestbest.predict(test)\n",
    "df = pd.DataFrame(data=forest_result , columns=[\"target\"])\n",
    "df.to_csv('forest.csv',index = False)"
   ]
  },
  {
   "cell_type": "markdown",
   "metadata": {},
   "source": [
    "After adding the id to the csv, I submitted the result to kaggle and got the feedback.\n",
    "#### Score for RandomForest model is : 0.64826"
   ]
  }
 ],
 "metadata": {
  "kernelspec": {
   "display_name": "Python 3",
   "language": "python",
   "name": "python3"
  },
  "language_info": {
   "codemirror_mode": {
    "name": "ipython",
    "version": 3
   },
   "file_extension": ".py",
   "mimetype": "text/x-python",
   "name": "python",
   "nbconvert_exporter": "python",
   "pygments_lexer": "ipython3",
   "version": "3.7.3"
  }
 },
 "nbformat": 4,
 "nbformat_minor": 2
}
